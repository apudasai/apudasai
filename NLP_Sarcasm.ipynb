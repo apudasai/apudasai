{
  "nbformat": 4,
  "nbformat_minor": 0,
  "metadata": {
    "colab": {
      "name": "NLP Sarcasm.ipynb",
      "provenance": [],
      "collapsed_sections": [],
      "authorship_tag": "ABX9TyMarL8vQUbFBCez6YupaYwP",
      "include_colab_link": true
    },
    "kernelspec": {
      "name": "python3",
      "display_name": "Python 3"
    },
    "language_info": {
      "name": "python"
    }
  },
  "cells": [
    {
      "cell_type": "markdown",
      "metadata": {
        "id": "view-in-github",
        "colab_type": "text"
      },
      "source": [
        "<a href=\"https://colab.research.google.com/github/apudasai/apudasai/blob/main/NLP_Sarcasm.ipynb\" target=\"_parent\"><img src=\"https://colab.research.google.com/assets/colab-badge.svg\" alt=\"Open In Colab\"/></a>"
      ]
    },
    {
      "cell_type": "code",
      "metadata": {
        "colab": {
          "base_uri": "https://localhost:8080/"
        },
        "id": "fo-9YceS0eQZ",
        "outputId": "3aebae39-d504-4c68-ce36-eeff68d9e138"
      },
      "source": [
        "# download the sarcasm data from Kaggle provided at https://www.kaggle.com/rmisra/news-headlines-dataset-for-sarcasm-detection\n",
        "!gdown --id 1xRU3xY5-tkiPGvlz5xBJ18_pHWSRzI4v"
      ],
      "execution_count": 1,
      "outputs": [
        {
          "output_type": "stream",
          "name": "stdout",
          "text": [
            "Downloading...\n",
            "From: https://drive.google.com/uc?id=1xRU3xY5-tkiPGvlz5xBJ18_pHWSRzI4v\n",
            "To: /content/sarcasm.json\n",
            "100% 5.64M/5.64M [00:00<00:00, 49.3MB/s]\n"
          ]
        }
      ]
    },
    {
      "cell_type": "code",
      "metadata": {
        "id": "n94D0AHY0jqa"
      },
      "source": [
        "# reading data and storing.\n",
        "import json\n",
        "with open(\"./sarcasm.json\", 'r') as f:\n",
        "  datastore = json.load(f)\n",
        "\n",
        "sentences = []\n",
        "labels = []\n",
        "urls = []\n",
        "for item in datastore:\n",
        "  sentences.append(item['headline'])\n",
        "  labels.append(item['is_sarcastic'])\n",
        "  urls.append(item['article_link'])"
      ],
      "execution_count": 2,
      "outputs": []
    },
    {
      "cell_type": "code",
      "metadata": {
        "colab": {
          "base_uri": "https://localhost:8080/"
        },
        "id": "5fVD5TIt0sFK",
        "outputId": "3c7a8d5a-66de-48ce-f562-9314c49c1b58"
      },
      "source": [
        "sentences[:6]  # check first 6 sentences"
      ],
      "execution_count": 3,
      "outputs": [
        {
          "output_type": "execute_result",
          "data": {
            "text/plain": [
              "[\"former versace store clerk sues over secret 'black code' for minority shoppers\",\n",
              " \"the 'roseanne' revival catches up to our thorny political mood, for better and worse\",\n",
              " \"mom starting to fear son's web series closest thing she will have to grandchild\",\n",
              " 'boehner just wants wife to listen, not come up with alternative debt-reduction ideas',\n",
              " 'j.k. rowling wishes snape happy birthday in the most magical way',\n",
              " \"advancing the world's women\"]"
            ]
          },
          "metadata": {},
          "execution_count": 3
        }
      ]
    },
    {
      "cell_type": "code",
      "metadata": {
        "colab": {
          "base_uri": "https://localhost:8080/"
        },
        "id": "7CYet-p-1gIZ",
        "outputId": "fb6c4561-3dc7-4264-d932-1ca3edf2e20d"
      },
      "source": [
        "labels[:9]"
      ],
      "execution_count": 4,
      "outputs": [
        {
          "output_type": "execute_result",
          "data": {
            "text/plain": [
              "[0, 0, 1, 1, 0, 0, 0, 0, 1]"
            ]
          },
          "metadata": {},
          "execution_count": 4
        }
      ]
    },
    {
      "cell_type": "code",
      "metadata": {
        "colab": {
          "base_uri": "https://localhost:8080/"
        },
        "id": "n3RybXHg1u6r",
        "outputId": "db7aaed1-5c82-4b24-a40c-bbe58165ae9f"
      },
      "source": [
        "urls[:4]"
      ],
      "execution_count": 5,
      "outputs": [
        {
          "output_type": "execute_result",
          "data": {
            "text/plain": [
              "['https://www.huffingtonpost.com/entry/versace-black-code_us_5861fbefe4b0de3a08f600d5',\n",
              " 'https://www.huffingtonpost.com/entry/roseanne-revival-review_us_5ab3a497e4b054d118e04365',\n",
              " 'https://local.theonion.com/mom-starting-to-fear-son-s-web-series-closest-thing-she-1819576697',\n",
              " 'https://politics.theonion.com/boehner-just-wants-wife-to-listen-not-come-up-with-alt-1819574302']"
            ]
          },
          "metadata": {},
          "execution_count": 5
        }
      ]
    },
    {
      "cell_type": "code",
      "metadata": {
        "colab": {
          "base_uri": "https://localhost:8080/"
        },
        "id": "AVDe8zRh1xng",
        "outputId": "1e4d61bc-6485-49a5-9bc6-e22ea7935130"
      },
      "source": [
        "# import NLP preprocessing libraries.\n",
        "from tensorflow.keras.preprocessing.text import Tokenizer\n",
        "from tensorflow.keras.preprocessing.sequence import pad_sequences\n",
        "tokenizer = Tokenizer(oov_token = \"<OOV>\")\n",
        "tokenizer.fit_on_texts(sentences)\n",
        "\n",
        "word_index = tokenizer.word_index\n",
        "print(len(word_index))\n",
        "#print(word_index)\n",
        "\n",
        "sequences = tokenizer.texts_to_sequences(sentences)\n",
        "padded = pad_sequences(sequences, padding = 'post')\n",
        "print(padded[0])\n",
        "print(padded.shape)"
      ],
      "execution_count": 6,
      "outputs": [
        {
          "output_type": "stream",
          "name": "stdout",
          "text": [
            "29657\n",
            "[  308 15115   679  3337  2298    48   382  2576 15116     6  2577  8434\n",
            "     0     0     0     0     0     0     0     0     0     0     0     0\n",
            "     0     0     0     0     0     0     0     0     0     0     0     0\n",
            "     0     0     0     0]\n",
            "(26709, 40)\n"
          ]
        }
      ]
    },
    {
      "cell_type": "code",
      "metadata": {
        "id": "IF5GbH1T2WIX"
      },
      "source": [
        "#set some hyperparameters\n",
        "vocab_size = 10000\n",
        "embedding_dim = 16\n",
        "max_length = 40\n",
        "trunc_type = 'post'\n",
        "padding_type = 'post'\n",
        "oov_tok = \"<OOV>\"\n",
        "training_size = 20000"
      ],
      "execution_count": 7,
      "outputs": []
    },
    {
      "cell_type": "code",
      "metadata": {
        "id": "7Zvpiuk15VQh"
      },
      "source": [
        "#split the data\n",
        "training_sentences = sentences[0:training_size]\n",
        "testing_sentences = sentences[training_size:]\n",
        "training_labels = labels[0:training_size]\n",
        "testing_labels = labels[training_size:]"
      ],
      "execution_count": 8,
      "outputs": []
    },
    {
      "cell_type": "code",
      "metadata": {
        "id": "lxsggz095qTb"
      },
      "source": [
        "# Converting into numbers to feed the model!\n",
        "tokenizer = Tokenizer(num_words = vocab_size, oov_token=oov_tok)\n",
        "tokenizer.fit_on_texts(training_sentences)\n",
        "\n",
        "word_index = tokenizer.word_index\n",
        "\n",
        "training_sequences = tokenizer.texts_to_sequences(training_sentences)\n",
        "training_padded = pad_sequences(training_sequences, maxlen= max_length, padding= padding_type, truncating=trunc_type)\n",
        "\n",
        "testing_sequences = tokenizer.texts_to_sequences(testing_sentences)\n",
        "testing_padded = pad_sequences(testing_sequences, maxlen=max_length, padding=padding_type, truncating= trunc_type)\n"
      ],
      "execution_count": 9,
      "outputs": []
    },
    {
      "cell_type": "code",
      "metadata": {
        "id": "y__QdJXK86_q"
      },
      "source": [
        "# Converting data to numpy arrays!\n",
        "import numpy as np\n",
        "training_padded = np.array(training_padded)\n",
        "training_labels = np.array(training_labels)\n",
        "testing_padded = np.array(testing_padded)\n",
        "testing_labels = np.array(testing_labels)"
      ],
      "execution_count": 10,
      "outputs": []
    },
    {
      "cell_type": "code",
      "metadata": {
        "id": "eUnieOZF7i46"
      },
      "source": [
        "#tensorflow import\n",
        "import tensorflow as tf"
      ],
      "execution_count": 11,
      "outputs": []
    },
    {
      "cell_type": "code",
      "metadata": {
        "colab": {
          "base_uri": "https://localhost:8080/"
        },
        "id": "th9EkVqj6u_6",
        "outputId": "f2088af4-1dee-4498-c583-0341523114cd"
      },
      "source": [
        "# Create a neural network\n",
        "#1. Build the model\n",
        "model = tf.keras.Sequential([\n",
        "    tf.keras.layers.Embedding(vocab_size, embedding_dim, input_length=max_length),\n",
        "    tf.keras.layers.GlobalAveragePooling1D(), # need these two to process NLP before feeding to DNN.\n",
        "    tf.keras.layers.Dense(124, activation='relu'),\n",
        "    tf.keras.layers.Dense(1, activation = 'sigmoid')\n",
        "    \n",
        "])\n",
        "\n",
        "#2. Compile the model\n",
        "model.compile(loss= 'binary_crossentropy',\n",
        "              optimizer = 'adam',\n",
        "              metrics = ['accuracy'])\n",
        "\n",
        "#3. Fit the model\n",
        "history = model.fit(training_padded, training_labels, epochs = 30, validation_data=(testing_padded, testing_labels))\n"
      ],
      "execution_count": 12,
      "outputs": [
        {
          "output_type": "stream",
          "name": "stdout",
          "text": [
            "Epoch 1/30\n",
            "625/625 [==============================] - 4s 5ms/step - loss: 0.5209 - accuracy: 0.7290 - val_loss: 0.3723 - val_accuracy: 0.8375\n",
            "Epoch 2/30\n",
            "625/625 [==============================] - 3s 5ms/step - loss: 0.2859 - accuracy: 0.8825 - val_loss: 0.3464 - val_accuracy: 0.8526\n",
            "Epoch 3/30\n",
            "625/625 [==============================] - 3s 5ms/step - loss: 0.2125 - accuracy: 0.9164 - val_loss: 0.3594 - val_accuracy: 0.8509\n",
            "Epoch 4/30\n",
            "625/625 [==============================] - 3s 5ms/step - loss: 0.1693 - accuracy: 0.9349 - val_loss: 0.3904 - val_accuracy: 0.8508\n",
            "Epoch 5/30\n",
            "625/625 [==============================] - 3s 5ms/step - loss: 0.1391 - accuracy: 0.9487 - val_loss: 0.4324 - val_accuracy: 0.8430\n",
            "Epoch 6/30\n",
            "625/625 [==============================] - 3s 5ms/step - loss: 0.1144 - accuracy: 0.9621 - val_loss: 0.4798 - val_accuracy: 0.8386\n",
            "Epoch 7/30\n",
            "625/625 [==============================] - 3s 4ms/step - loss: 0.0989 - accuracy: 0.9642 - val_loss: 0.5545 - val_accuracy: 0.8305\n",
            "Epoch 8/30\n",
            "625/625 [==============================] - 3s 4ms/step - loss: 0.0855 - accuracy: 0.9701 - val_loss: 0.5821 - val_accuracy: 0.8310\n",
            "Epoch 9/30\n",
            "625/625 [==============================] - 3s 4ms/step - loss: 0.0725 - accuracy: 0.9760 - val_loss: 0.6373 - val_accuracy: 0.8269\n",
            "Epoch 10/30\n",
            "625/625 [==============================] - 3s 5ms/step - loss: 0.0610 - accuracy: 0.9797 - val_loss: 0.7078 - val_accuracy: 0.8256\n",
            "Epoch 11/30\n",
            "625/625 [==============================] - 3s 5ms/step - loss: 0.0539 - accuracy: 0.9827 - val_loss: 0.7742 - val_accuracy: 0.8219\n",
            "Epoch 12/30\n",
            "625/625 [==============================] - 3s 4ms/step - loss: 0.0481 - accuracy: 0.9847 - val_loss: 0.8161 - val_accuracy: 0.8196\n",
            "Epoch 13/30\n",
            "625/625 [==============================] - 3s 5ms/step - loss: 0.0425 - accuracy: 0.9863 - val_loss: 0.8800 - val_accuracy: 0.8176\n",
            "Epoch 14/30\n",
            "625/625 [==============================] - 3s 5ms/step - loss: 0.0368 - accuracy: 0.9885 - val_loss: 0.9379 - val_accuracy: 0.8162\n",
            "Epoch 15/30\n",
            "625/625 [==============================] - 3s 4ms/step - loss: 0.0334 - accuracy: 0.9893 - val_loss: 1.0057 - val_accuracy: 0.8111\n",
            "Epoch 16/30\n",
            "625/625 [==============================] - 3s 5ms/step - loss: 0.0330 - accuracy: 0.9890 - val_loss: 1.0711 - val_accuracy: 0.8122\n",
            "Epoch 17/30\n",
            "625/625 [==============================] - 3s 5ms/step - loss: 0.0290 - accuracy: 0.9906 - val_loss: 1.1014 - val_accuracy: 0.8098\n",
            "Epoch 18/30\n",
            "625/625 [==============================] - 3s 5ms/step - loss: 0.0257 - accuracy: 0.9921 - val_loss: 1.1765 - val_accuracy: 0.8095\n",
            "Epoch 19/30\n",
            "625/625 [==============================] - 3s 5ms/step - loss: 0.0251 - accuracy: 0.9919 - val_loss: 1.2530 - val_accuracy: 0.8100\n",
            "Epoch 20/30\n",
            "625/625 [==============================] - 3s 5ms/step - loss: 0.0199 - accuracy: 0.9938 - val_loss: 1.2953 - val_accuracy: 0.8040\n",
            "Epoch 21/30\n",
            "625/625 [==============================] - 3s 5ms/step - loss: 0.0182 - accuracy: 0.9943 - val_loss: 1.3896 - val_accuracy: 0.8049\n",
            "Epoch 22/30\n",
            "625/625 [==============================] - 3s 4ms/step - loss: 0.0175 - accuracy: 0.9944 - val_loss: 1.4275 - val_accuracy: 0.8044\n",
            "Epoch 23/30\n",
            "625/625 [==============================] - 3s 5ms/step - loss: 0.0171 - accuracy: 0.9944 - val_loss: 1.4695 - val_accuracy: 0.8068\n",
            "Epoch 24/30\n",
            "625/625 [==============================] - 3s 5ms/step - loss: 0.0151 - accuracy: 0.9951 - val_loss: 1.5221 - val_accuracy: 0.8044\n",
            "Epoch 25/30\n",
            "625/625 [==============================] - 3s 5ms/step - loss: 0.0162 - accuracy: 0.9944 - val_loss: 1.6179 - val_accuracy: 0.8038\n",
            "Epoch 26/30\n",
            "625/625 [==============================] - 3s 5ms/step - loss: 0.0160 - accuracy: 0.9944 - val_loss: 1.5988 - val_accuracy: 0.8071\n",
            "Epoch 27/30\n",
            "625/625 [==============================] - 3s 5ms/step - loss: 0.0122 - accuracy: 0.9959 - val_loss: 1.6930 - val_accuracy: 0.8037\n",
            "Epoch 28/30\n",
            "625/625 [==============================] - 3s 5ms/step - loss: 0.0115 - accuracy: 0.9957 - val_loss: 1.8019 - val_accuracy: 0.8058\n",
            "Epoch 29/30\n",
            "625/625 [==============================] - 3s 5ms/step - loss: 0.0129 - accuracy: 0.9955 - val_loss: 1.7796 - val_accuracy: 0.8046\n",
            "Epoch 30/30\n",
            "625/625 [==============================] - 4s 6ms/step - loss: 0.0107 - accuracy: 0.9960 - val_loss: 1.9280 - val_accuracy: 0.8030\n"
          ]
        }
      ]
    },
    {
      "cell_type": "code",
      "metadata": {
        "colab": {
          "base_uri": "https://localhost:8080/",
          "height": 313
        },
        "id": "X56NuwRF8QnG",
        "outputId": "9249a17a-33bd-4a17-c68e-5f4b8a9d7c7e"
      },
      "source": [
        "# Plotting for a quick view.\n",
        "import pandas as pd\n",
        "import matplotlib.pyplot as plt\n",
        "pd.DataFrame(history.history).plot(xlabel = \"epochs\", ylabel= 'loss, accuracy, val_loss, val_accuracy', title = \"loss vs iterations\")\n",
        "plt.plot()"
      ],
      "execution_count": 13,
      "outputs": [
        {
          "output_type": "execute_result",
          "data": {
            "text/plain": [
              "[]"
            ]
          },
          "metadata": {},
          "execution_count": 13
        },
        {
          "output_type": "display_data",
          "data": {
            "image/png": "[encoded data removed]",
            "text/plain": [
              "<Figure size 432x288 with 1 Axes>"
            ]
          },
          "metadata": {
            "needs_background": "light"
          }
        }
      ]
    },
    {
      "cell_type": "code",
      "metadata": {
        "colab": {
          "base_uri": "https://localhost:8080/"
        },
        "id": "sBZpULqy7ffq",
        "outputId": "b8561b43-1830-4f0f-e7b0-66d5ae008fa3"
      },
      "source": [
        "model.summary()"
      ],
      "execution_count": 14,
      "outputs": [
        {
          "output_type": "stream",
          "name": "stdout",
          "text": [
            "Model: \"sequential\"\n",
            "_________________________________________________________________\n",
            "Layer (type)                 Output Shape              Param #   \n",
            "=================================================================\n",
            "embedding (Embedding)        (None, 40, 16)            160000    \n",
            "_________________________________________________________________\n",
            "global_average_pooling1d (Gl (None, 16)                0         \n",
            "_________________________________________________________________\n",
            "dense (Dense)                (None, 124)               2108      \n",
            "_________________________________________________________________\n",
            "dense_1 (Dense)              (None, 1)                 125       \n",
            "=================================================================\n",
            "Total params: 162,233\n",
            "Trainable params: 162,233\n",
            "Non-trainable params: 0\n",
            "_________________________________________________________________\n"
          ]
        }
      ]
    },
    {
      "cell_type": "code",
      "metadata": {
        "id": "5XNziEZy8CQU"
      },
      "source": [
        ""
      ],
      "execution_count": 14,
      "outputs": []
    }
  ]
}